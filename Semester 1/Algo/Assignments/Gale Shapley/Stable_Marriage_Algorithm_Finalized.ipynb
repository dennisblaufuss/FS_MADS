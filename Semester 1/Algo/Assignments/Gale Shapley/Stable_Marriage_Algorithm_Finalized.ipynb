{
 "cells": [
  {
   "cell_type": "code",
   "execution_count": 49,
   "metadata": {},
   "outputs": [],
   "source": [
    "# Assignment: Gale–Shapley algorithm python algorithm\n",
    "# Author: Juan Diego Zucchino Aguilar \n",
    "# Master in Applied Data Science 2023\n",
    "# Assignment: Gale-Shapley Algorithm im-lementation\n",
    "\n",
    "class Male:\n",
    "    \n",
    "    def __init__(self, name):\n",
    "        self.name = name\n",
    "        self.preferences = []\n",
    "        self.match = None\n",
    "        self.proposal_index = -1\n",
    "    \n",
    "    def set_preferences(self, preferences):\n",
    "        self.preferences = preferences\n",
    "        \n",
    "    def Nextproposal(self):\n",
    "        if self.match is not None:\n",
    "            return None\n",
    "        \n",
    "        self.proposal_index += 1\n",
    "        \n",
    "        if len(self.preferences) < self.proposal_index:\n",
    "            print(\"proposal index is not in preference list \")\n",
    "        self.preferences[self.proposal_index].accept_proposal(self)\n",
    "        self.match = self.preferences[self.proposal_index]\n",
    "    \n",
    "    def leave(self):\n",
    "        self.match = None\n",
    "        self.Nextproposal()\n",
    "        \n",
    "    \n",
    "class Female: \n",
    "    \n",
    "    def __init__(self, name): \n",
    "        self.name = name \n",
    "        self.preferences = []\n",
    "        self.match = None \n",
    "        self.preferences_index = -1 \n",
    "        \n",
    "    def set_preferences(self, preferences): \n",
    "        self.preferences = preferences \n",
    "    \n",
    "    def accept_proposal(self, male): \n",
    "        if self.match == None: \n",
    "            self.match = male \n",
    "        else: \n",
    "            if self.preferences.index(self.match)> self.preferences.index(male): \n",
    "                self.match.leave() \n",
    "                self.match= male\n",
    "            else: \n",
    "                male.Nextproposal()\n",
    "                \n",
    "    def display(self): \n",
    "        print(str(self.name) + \" is matched with \" + str(self.match.name))"
   ]
  },
  {
   "cell_type": "code",
   "execution_count": 50,
   "metadata": {},
   "outputs": [],
   "source": [
    "# Males\n",
    "a = Male('Daniel')\n",
    "b = Male('Diego')\n",
    "c = Male('Luca')\n",
    "d = Male(\"Marco\")\n",
    "\n",
    "male = [a,b,c,d]\n",
    "\n",
    "# Females: \n",
    "one = Female(\"Alfonsa\")\n",
    "two = Female(\"Lusia\")\n",
    "three = Female(\"Marta\")\n",
    "four = Female(\"Rachel\")\n",
    "\n",
    "female = [one, two, three, four]"
   ]
  },
  {
   "cell_type": "code",
   "execution_count": 56,
   "metadata": {},
   "outputs": [],
   "source": [
    "# Setting up preferences \n",
    "\n",
    "# Male Preferences: \n",
    "a.set_preferences([three,four, two, one])\n",
    "b.set_preferences([three, two, one, four])\n",
    "c.set_preferences([four, one, two, three])\n",
    "d.set_preferences([four,three,two,one])\n",
    "\n",
    "# female Preferences: \n",
    "one.set_preferences([d,b,a,c])\n",
    "two.set_preferences([d,a,c,b])\n",
    "three.set_preferences([b,c,a,d])\n",
    "four.set_preferences([c,b,a,d])\n",
    "\n",
    "\n",
    "for first_man in range(len(male)):\n",
    "    male[first_man].Nextproposal()\n"
   ]
  },
  {
   "cell_type": "code",
   "execution_count": 57,
   "metadata": {},
   "outputs": [
    {
     "name": "stdout",
     "output_type": "stream",
     "text": [
      "Alfonsa is matched with Daniel\n",
      "Lusia is matched with Marco\n",
      "Marta is matched with Diego\n",
      "Rachel is matched with Luca\n"
     ]
    }
   ],
   "source": [
    "#Displaying the perfect matches\n",
    "one.display()\n",
    "two.display()\n",
    "three.display()\n",
    "four.display()"
   ]
  },
  {
   "cell_type": "code",
   "execution_count": 3,
   "metadata": {},
   "outputs": [
    {
     "name": "stdout",
     "output_type": "stream",
     "text": [
      "[['b', 'f'], ['d', 'o'], ['a', 'm'], ['c', 'n'], ['e', 'p']]\n"
     ]
    }
   ],
   "source": [
    "# Done with functions - Marriage Dilemma\n",
    "\n",
    "men_preference = {\n",
    "    \"a\":[\"f\",\"m\",\"n\",\"o\",\"p\"],\n",
    "    \"b\":[\"f\",\"o\",\"n\",\"p\",\"m\"],\n",
    "    \"c\":[\"f\",\"o\",\"n\",\"m\",\"p\"],\n",
    "    \"d\":[\"o\",\"p\",\"m\",\"f\",\"n\"],\n",
    "    \"e\":[\"m\",\"p\",\"n\",\"f\",\"o\"]\n",
    "}\n",
    "\n",
    "w_accept = {\n",
    "    \"f\" :[\"b\",\"a\",\"c\",\"d\",\"e\"],\n",
    "    \"m\":[\"c\",\"d\",\"b\",\"a\",\"e\"],\n",
    "    \"n\":[\"a\",\"a\",\"c\",\"b\",\"d\"], \n",
    "    \"o\": [\"a\",\"b\",\"d\",\"e\",\"c\"],\n",
    "    \"p\": [\"e\",\"c\",\"a\",\"b\",\"d\"]\n",
    "}\n",
    "\n",
    "possible_matches = []\n",
    "free_men = [man for man in list(men_preference.keys())] #The function key converts the values of a dictionary into a list the list of free men \n",
    "\n",
    "def matching():\n",
    "    while len(free_men) > 0:\n",
    "        for man in free_men: \n",
    "            begin_swiping(man)\n",
    "\n",
    "def begin_swiping(man): \n",
    "    for woman in men_preference[man]:\n",
    "        taken_match = [pairing for pairing in possible_matches if woman in pairing]\n",
    "\n",
    "        if not taken_match:\n",
    "            # if the woman is not taken, match her with the man\n",
    "            possible_matches.append([man, woman])\n",
    "            free_men.remove(man)\n",
    "            break\n",
    "        else:\n",
    "            current_partner = w_accept[woman].index(taken_match[0][0])\n",
    "            potential_partner = w_accept[woman].index(man) #Create a new list of potential partners\n",
    "\n",
    "            if potential_partner < current_partner:\n",
    "                free_men.remove(man)\n",
    "                free_men.append(taken_match[0][0])\n",
    "                taken_match[0][0] = man\n",
    "                break\n",
    "matching()\n",
    "print(possible_matches) "
   ]
  },
  {
   "cell_type": "code",
   "execution_count": null,
   "metadata": {},
   "outputs": [],
   "source": []
  },
  {
   "cell_type": "code",
   "execution_count": null,
   "metadata": {},
   "outputs": [],
   "source": []
  },
  {
   "cell_type": "code",
   "execution_count": null,
   "metadata": {},
   "outputs": [],
   "source": []
  }
 ],
 "metadata": {
  "kernelspec": {
   "display_name": "Python 3",
   "language": "python",
   "name": "python3"
  },
  "language_info": {
   "codemirror_mode": {
    "name": "ipython",
    "version": 3
   },
   "file_extension": ".py",
   "mimetype": "text/x-python",
   "name": "python",
   "nbconvert_exporter": "python",
   "pygments_lexer": "ipython3",
   "version": "3.8.5"
  }
 },
 "nbformat": 4,
 "nbformat_minor": 4
}
