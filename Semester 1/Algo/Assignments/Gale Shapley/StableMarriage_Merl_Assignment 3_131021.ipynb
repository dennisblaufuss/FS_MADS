{
 "cells": [
  {
   "cell_type": "markdown",
   "id": "220c96cd",
   "metadata": {},
   "source": [
    "Individual Assignment 3 - Stable marriage problem / Gale Shapley Algorithm | Sophie Merl "
   ]
  },
  {
   "cell_type": "markdown",
   "id": "a51b578c",
   "metadata": {},
   "source": [
    "Import packages"
   ]
  },
  {
   "cell_type": "code",
   "execution_count": 90,
   "id": "e4da226e",
   "metadata": {},
   "outputs": [],
   "source": [
    "from time import perf_counter_ns\n",
    "import random as random\n",
    "import pandas as pd\n",
    "import matplotlib.pyplot as plt"
   ]
  },
  {
   "cell_type": "markdown",
   "id": "0dd75e36",
   "metadata": {},
   "source": [
    "Class Person"
   ]
  },
  {
   "cell_type": "code",
   "execution_count": 109,
   "id": "4ab3be81",
   "metadata": {},
   "outputs": [],
   "source": [
    "class Person:\n",
    "    def __init__(self, name):\n",
    "        self.name = name\n",
    "        self.preferences = None\n",
    "        self.partner = None\n",
    "\n",
    "    def set_pref(self, pref):\n",
    "        self.preferences = pref\n",
    "        \n",
    "    def get_pref(self):\n",
    "        return self.preferences[0]\n",
    "    \n",
    "    def get_pref_index(self, person):\n",
    "        return self.preferences.index(person)    \n",
    "    \n",
    "    def he_proposing(self, woman):\n",
    "        self.partner = woman.she_evaluating(self)\n",
    "    \n",
    "    def she_evaluating(self, man):\n",
    "        if self.partner is None:\n",
    "            self.partner = man\n",
    "            return self\n",
    "        elif self.get_pref_index(man) < self.get_pref_index(self.partner):\n",
    "            self.breaking_up(self.partner)\n",
    "            self.partner = man\n",
    "            return self\n",
    "        else:\n",
    "            man.preferences.remove(self)\n",
    "            \n",
    "    def breaking_up(self, ex):\n",
    "        ex.partner = None\n",
    "        ex.preferences.remove(self)"
   ]
  },
  {
   "cell_type": "markdown",
   "id": "1984c18e",
   "metadata": {},
   "source": [
    "Gale shapley algorithm"
   ]
  },
  {
   "cell_type": "code",
   "execution_count": 110,
   "id": "73ecf096",
   "metadata": {},
   "outputs": [],
   "source": [
    "def gale_shapley_algorithm(males,females):\n",
    "    w = 0\n",
    "    while w <= len(females):\n",
    "        for men in males:\n",
    "            if men.partner is None:\n",
    "                woman = men.get_pref()\n",
    "                men.he_proposing(woman)\n",
    "        w += 1  "
   ]
  },
  {
   "cell_type": "markdown",
   "id": "aa7b8668",
   "metadata": {},
   "source": [
    "Defining males "
   ]
  },
  {
   "cell_type": "code",
   "execution_count": 111,
   "id": "ce97cbac",
   "metadata": {},
   "outputs": [],
   "source": [
    "A = Person(name = \"A\")\n",
    "B = Person(name = \"B\")\n",
    "C = Person(name = \"C\")\n",
    "D = Person(name = \"D\")\n",
    "E = Person(name = \"E\")"
   ]
  },
  {
   "cell_type": "markdown",
   "id": "e8cdb980",
   "metadata": {},
   "source": [
    "Defining females"
   ]
  },
  {
   "cell_type": "code",
   "execution_count": 112,
   "id": "afb6290d",
   "metadata": {},
   "outputs": [],
   "source": [
    "L = Person(name = \"L\")\n",
    "M = Person(name = \"M\")\n",
    "N = Person(name = \"N\")\n",
    "O = Person(name = \"O\")\n",
    "P = Person(name = \"P\")"
   ]
  },
  {
   "cell_type": "markdown",
   "id": "fa4b90c6",
   "metadata": {},
   "source": [
    "Set preferences"
   ]
  },
  {
   "cell_type": "code",
   "execution_count": 113,
   "id": "40bcc945",
   "metadata": {},
   "outputs": [],
   "source": [
    "A.set_pref([O, M, N, L, P])\n",
    "B.set_pref([P, N, M, L, O])\n",
    "C.set_pref([M, P, L, O, N])\n",
    "D.set_pref([P, M, O, N, L])\n",
    "E.set_pref([O, L, M, N, P])\n",
    "L.set_pref([D, B, E, C, A])\n",
    "M.set_pref([B, A, D, C, E])\n",
    "N.set_pref([A, C, E, D, B])\n",
    "O.set_pref([D, A, C, B, E])\n",
    "P.set_pref([B, E, A, C, D])"
   ]
  },
  {
   "cell_type": "markdown",
   "id": "0d324c0c",
   "metadata": {},
   "source": [
    "Create lists"
   ]
  },
  {
   "cell_type": "code",
   "execution_count": 114,
   "id": "cf24094d",
   "metadata": {},
   "outputs": [],
   "source": [
    "males = [A, B, C, D, E]\n",
    "females = [L, M, N, O, P]"
   ]
  },
  {
   "cell_type": "markdown",
   "id": "5f8ee32f",
   "metadata": {},
   "source": [
    "Gale shapley"
   ]
  },
  {
   "cell_type": "code",
   "execution_count": 115,
   "id": "994b002c",
   "metadata": {},
   "outputs": [],
   "source": [
    "gale_shapley_algorithm(males, females)"
   ]
  },
  {
   "cell_type": "markdown",
   "id": "afe60e69",
   "metadata": {},
   "source": [
    "Show couples"
   ]
  },
  {
   "cell_type": "code",
   "execution_count": 116,
   "id": "5fa84c73",
   "metadata": {},
   "outputs": [
    {
     "name": "stdout",
     "output_type": "stream",
     "text": [
      "A married O\n",
      "B married P\n",
      "C married N\n",
      "D married M\n",
      "E married L\n",
      "L married E\n",
      "M married D\n",
      "N married C\n",
      "O married A\n",
      "P married B\n"
     ]
    }
   ],
   "source": [
    "print(\"A married \" + A.partner.name)\n",
    "print(\"B married \" + B.partner.name)\n",
    "print(\"C married \" + C.partner.name)\n",
    "print(\"D married \" + D.partner.name)\n",
    "print(\"E married \" + E.partner.name)\n",
    "print(\"L married \" + L.partner.name)\n",
    "print(\"M married \" + M.partner.name)\n",
    "print(\"N married \" + N.partner.name)\n",
    "print(\"O married \" + O.partner.name)\n",
    "print(\"P married \" + P.partner.name)"
   ]
  },
  {
   "cell_type": "markdown",
   "id": "ac519679",
   "metadata": {},
   "source": [
    "Time complexity"
   ]
  },
  {
   "cell_type": "code",
   "execution_count": 118,
   "id": "20d75c55",
   "metadata": {},
   "outputs": [],
   "source": [
    "data_time = []\n",
    "persons = []\n",
    "items = 500\n",
    "for test in range(7):\n",
    "    items *= 2\n",
    "    persons.append(items)\n",
    "    l = list(range(items))\n",
    "    list_males = l[:items//2]\n",
    "    list_females = l[items//2:]\n",
    "\n",
    "    males = [Person(i) for i in list_males]\n",
    "    females = [Person(i) for i in list_females]\n",
    "\n",
    "    for i in males:\n",
    "        random.shuffle(females)\n",
    "        i.set_pref(females)\n",
    "\n",
    "    for i in females:\n",
    "        random.shuffle(males)\n",
    "        i.set_pref(males)\n",
    "\n",
    "    time_start = perf_counter_ns()\n",
    "    gale_shapley_algorithm(males, females)\n",
    "    time_span = perf_counter_ns() - time_start\n",
    "    time_in_sec = (time_span / 1000000000)\n",
    "    data_time.append(time_in_sec)"
   ]
  },
  {
   "cell_type": "code",
   "execution_count": 106,
   "id": "8858013a",
   "metadata": {},
   "outputs": [],
   "source": [
    "data = {\"Persons\": persons,\n",
    "        \"Time in sec\": data_time}"
   ]
  },
  {
   "cell_type": "code",
   "execution_count": 107,
   "id": "b64b22e1",
   "metadata": {},
   "outputs": [
    {
     "name": "stdout",
     "output_type": "stream",
     "text": [
      "   Persons  Time in sec\n",
      "0     1000     0.003982\n",
      "1     2000     0.014669\n",
      "2     4000     0.057599\n",
      "3     8000     0.229421\n",
      "4    16000     0.923544\n",
      "5    32000     3.764621\n",
      "6    64000    15.001383\n"
     ]
    }
   ],
   "source": [
    "df = pd.DataFrame(data)\n",
    "print(df)"
   ]
  },
  {
   "cell_type": "markdown",
   "id": "8446f1f4",
   "metadata": {},
   "source": [
    "Plot time complexity (We observe O(n^2))"
   ]
  },
  {
   "cell_type": "code",
   "execution_count": 108,
   "id": "fb0b1cf2",
   "metadata": {},
   "outputs": [
    {
     "data": {
      "image/png": "[encoded data removed]",
      "text/plain": [
       "<Figure size 1152x360 with 1 Axes>"
      ]
     },
     "metadata": {},
     "output_type": "display_data"
    }
   ],
   "source": [
    "plt.figure(figsize=(16,5))\n",
    "plt.style.use(\"ggplot\")\n",
    "\n",
    "plt.plot(df[\"Persons\"], df[\"Time in sec\"],\n",
    "        marker = \"o\",\n",
    "        color = \"red\",\n",
    "        label = \"Time Span\")\n",
    "\n",
    "plt.xlabel(\"Persons to be matched\")\n",
    "plt.xlim(xmin=0)\n",
    "plt.ylabel(\"Time Span in Seconds\")\n",
    "plt.ylim(ymin=0)\n",
    "plt.title(\"Calculate time complexity to match persons with the Gale Shapley algorithm\")\n",
    "plt.show()"
   ]
  }
 ],
 "metadata": {
  "kernelspec": {
   "display_name": "Python 3 (ipykernel)",
   "language": "python",
   "name": "python3"
  },
  "language_info": {
   "codemirror_mode": {
    "name": "ipython",
    "version": 3
   },
   "file_extension": ".py",
   "mimetype": "text/x-python",
   "name": "python",
   "nbconvert_exporter": "python",
   "pygments_lexer": "ipython3",
   "version": "3.8.8"
  }
 },
 "nbformat": 4,
 "nbformat_minor": 5
}
