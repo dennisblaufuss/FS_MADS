{
 "cells": [
  {
   "cell_type": "markdown",
   "id": "70d315a7",
   "metadata": {},
   "source": [
    "Group Assignment 2 (1 October 2021) | Adam Sahnoun, Dennis Blaufuss, Lars Wrede, Philipp Voit, Sophie Merl"
   ]
  },
  {
   "cell_type": "markdown",
   "id": "d73b8154",
   "metadata": {},
   "source": [
    "Import packages"
   ]
  },
  {
   "cell_type": "code",
   "execution_count": 3,
   "id": "55f0fcb6",
   "metadata": {},
   "outputs": [],
   "source": [
    "from time import perf_counter_ns\n",
    "from random import randrange\n",
    "import matplotlib.pyplot as plt\n",
    "import pandas as pd"
   ]
  },
  {
   "cell_type": "markdown",
   "id": "37572d35",
   "metadata": {},
   "source": [
    "Class Node"
   ]
  },
  {
   "cell_type": "code",
   "execution_count": 4,
   "id": "742627a3",
   "metadata": {},
   "outputs": [],
   "source": [
    "class Node:\n",
    "    def __init__(self, data=None):\n",
    "        self.data = data\n",
    "        self.next = None\n",
    "\n",
    "    def __str__(self):\n",
    "        return str(self.data)"
   ]
  },
  {
   "cell_type": "markdown",
   "id": "c00734ba",
   "metadata": {},
   "source": [
    "Class LinkedList"
   ]
  },
  {
   "cell_type": "code",
   "execution_count": 5,
   "id": "a7b351c2",
   "metadata": {},
   "outputs": [],
   "source": [
    "class LinkedList:\n",
    "    def __init__(self, data=None):\n",
    "        # Tail is used in 'add' functions for faster result\n",
    "        self.tail = self.head = Node(data)\n",
    "        self.size = 1\n",
    "\n",
    "    def __str__(self):\n",
    "        data = \"\"\n",
    "        current_node = self.head\n",
    "        while current_node is not None:\n",
    "            data += str(current_node.data) + \" -> \"\n",
    "            current_node = current_node.next\n",
    "        return data[:-4]\n",
    "\n",
    "    def add(self, data):\n",
    "        self.tail.next = Node(data)\n",
    "        self.tail = self.tail.next\n",
    "        self.size += 1\n",
    "        return\n",
    "\n",
    "        # Version for classic linked list (=without tail):\n",
    "        new_node = Node(data)\n",
    "        current = self.head\n",
    "        while current.next is not None:\n",
    "            current = current.next\n",
    "        current.next = new_node\n",
    "        self.size += 1\n",
    "        return\n",
    "\n",
    "    def at(self, index):\n",
    "        if index >= self.size:\n",
    "            raise Exception(f'Index {index} out of bound')\n",
    "        current = self.head\n",
    "        for i in range(index):\n",
    "            current = current.next\n",
    "        return current\n",
    "\n",
    "    def insert(self, index, data):\n",
    "        current_index = 0\n",
    "        new_node = Node(data)\n",
    "        current = self.head\n",
    "        if index == 0:\n",
    "            new_node.next = self.head\n",
    "            self.head = new_node\n",
    "            self.size += 1\n",
    "            return\n",
    "        if index == self.size:\n",
    "            self.add(data)\n",
    "            return\n",
    "        while current.next is not None:\n",
    "            if current_index == index - 1:\n",
    "                temp = current.next\n",
    "                current.next = new_node\n",
    "                new_node.next = temp\n",
    "                self.size += 1\n",
    "                return\n",
    "            current = current.next\n",
    "            current_index += 1\n",
    "        raise Exception(f'Index {index} out of bound')\n",
    "\n",
    "    def remove(self, index):\n",
    "        if index >= self.size:\n",
    "            raise Exception(f'Index {index} out of bound')\n",
    "        if index == 0:\n",
    "            self.head = self.head.next\n",
    "            self.size -= 1\n",
    "            return\n",
    "        current = self.head\n",
    "        for i in range(index - 1):\n",
    "            current = current.next\n",
    "        if current.next is self.tail:\n",
    "            self.tail = current\n",
    "        else:\n",
    "            current.next = current.next.next\n",
    "        self.size -= 1\n",
    "        return\n",
    "\n",
    "    def __len__(self):\n",
    "        return self.size\n",
    "\n",
    "    def substring(self, start, end, step=None):\n",
    "        if start > end:\n",
    "            return \"not possible\"\n",
    "        if step is None:\n",
    "            step = 1\n",
    "        end -= 1\n",
    "        if end > self.size:\n",
    "            end = self.size\n",
    "        data = \"\"\n",
    "        current_node = self.head\n",
    "        if start > 0 and step > 0:\n",
    "            i = 0\n",
    "            while i < start:\n",
    "                current_node = current_node.next\n",
    "                i += 1\n",
    "        if step > 0:\n",
    "            while start < end:\n",
    "                data += str(current_node.data) + \" -> \"\n",
    "                current_node = current_node.next\n",
    "                start += step\n",
    "            return data[:-4]\n",
    "        else:\n",
    "            return \"negative step is only possible in double linked list\"\n",
    "            # it is possible though highly inefficient (just go for dll in that case)"
   ]
  },
  {
   "cell_type": "markdown",
   "id": "9f087716",
   "metadata": {},
   "source": [
    "Input data"
   ]
  },
  {
   "cell_type": "code",
   "execution_count": 36,
   "id": "7254502c",
   "metadata": {},
   "outputs": [],
   "source": [
    "min_l = 10000     # <--- min linked list length\n",
    "max_l = 20000000  # <--- max linked list length\n",
    "n = 3000000       # <--- times a random object will be inserted at index 0\n",
    "reps = 10         # <--- times the 'at' function will be repeated"
   ]
  },
  {
   "cell_type": "markdown",
   "id": "a641ec3f",
   "metadata": {},
   "source": [
    "Create data"
   ]
  },
  {
   "cell_type": "code",
   "execution_count": 37,
   "id": "df68db93",
   "metadata": {},
   "outputs": [],
   "source": [
    "data_count = []\n",
    "data_time1 = []\n",
    "data_time2 = []\n",
    "while min_l <= max_l:\n",
    "    new_lst = LinkedList()\n",
    "    for j in (range(min_l)):\n",
    "        new_lst.add(j)\n",
    "    # timing access\n",
    "    time_start1 = perf_counter_ns()\n",
    "    for j in range(reps):\n",
    "        new_lst.at(randrange(min_l))\n",
    "    time_end1 = perf_counter_ns()\n",
    "    time_span1 = time_end1 - time_start1\n",
    "    time_in_sec_1 = (time_span1 / 1000000000)\n",
    "    # timing insert\n",
    "    data_time1.append(time_in_sec_1)\n",
    "    time_start2 = perf_counter_ns()\n",
    "    for j in range(n):\n",
    "        new_lst.insert(0, j)\n",
    "    time_end2 = perf_counter_ns()\n",
    "    time_span2 = time_end2 - time_start2\n",
    "    time_in_sec_2 = time_span2 / 1000000000\n",
    "    data_time2.append(time_in_sec_2)\n",
    "    data_count.append(min_l)\n",
    "    min_l *= 2"
   ]
  },
  {
   "cell_type": "markdown",
   "id": "68e57ce3",
   "metadata": {},
   "source": [
    "Create dataframe"
   ]
  },
  {
   "cell_type": "code",
   "execution_count": 38,
   "id": "6564ecaa",
   "metadata": {},
   "outputs": [],
   "source": [
    "data = {\"count\": data_count,\n",
    "        \"time (access)\": data_time1, \"time (insert)\": data_time2}\n",
    "df = pd.DataFrame(data)"
   ]
  },
  {
   "cell_type": "markdown",
   "id": "e47619e1",
   "metadata": {},
   "source": [
    "Plot Time Complexity"
   ]
  },
  {
   "cell_type": "code",
   "execution_count": 39,
   "id": "7f23d340",
   "metadata": {},
   "outputs": [
    {
     "data": {
      "image/png": "[encoded data removed]",
      "text/plain": [
       "<Figure size 1152x360 with 1 Axes>"
      ]
     },
     "metadata": {},
     "output_type": "display_data"
    }
   ],
   "source": [
    "plt.figure(figsize=(16, 5))\n",
    "plt.style.use(\"ggplot\")\n",
    "plt.plot(df[\"count\"]/1000000, df[\"time (access)\"],\n",
    "         marker=\"o\",\n",
    "         color=\"red\",\n",
    "         label=\"time to access \" + str(reps) + \" random elements\")\n",
    "plt.plot(df[\"count\"]/1000000, df[\"time (insert)\"],\n",
    "         marker=\"o\",\n",
    "         color=\"blue\",\n",
    "         label=\"time to insert \" + str(int(n/1000)) + \"K elements at position zero\")\n",
    "plt.legend()\n",
    "# Labeling and aligning the axes to 0\n",
    "plt.xlabel(\"length of linked list in millions\")\n",
    "plt.xlim(xmin=0)\n",
    "plt.ylabel(\"time span in seconds\")\n",
    "plt.ylim(ymin=0)\n",
    "plt.title(\"Comparison of time complexity between inserting at index 0 and accessing of random nodes in linked list\")\n",
    "plt.show()"
   ]
  }
 ],
 "metadata": {
  "kernelspec": {
   "display_name": "Python 3 (ipykernel)",
   "language": "python",
   "name": "python3"
  },
  "language_info": {
   "codemirror_mode": {
    "name": "ipython",
    "version": 3
   },
   "file_extension": ".py",
   "mimetype": "text/x-python",
   "name": "python",
   "nbconvert_exporter": "python",
   "pygments_lexer": "ipython3",
   "version": "3.8.8"
  }
 },
 "nbformat": 4,
 "nbformat_minor": 5
}
