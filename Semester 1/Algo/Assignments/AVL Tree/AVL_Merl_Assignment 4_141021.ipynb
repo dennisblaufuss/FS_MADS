{
 "cells": [
  {
   "cell_type": "markdown",
   "id": "ba28aec7",
   "metadata": {},
   "source": [
    "Individual Assignment 4 | Sophie Merl"
   ]
  },
  {
   "cell_type": "markdown",
   "id": "42eb9c23",
   "metadata": {},
   "source": [
    "Class KV"
   ]
  },
  {
   "cell_type": "code",
   "execution_count": 3,
   "id": "29c646dc",
   "metadata": {},
   "outputs": [],
   "source": [
    "class KV:\n",
    "    \n",
    "    def __init__(self, key, value):\n",
    "        self.key = key\n",
    "        self.value = value\n",
    "        \n",
    "    def __le__(self, other):\n",
    "        return self.key <= other.key\n",
    "    \n",
    "    def __lt__(self, other):\n",
    "        return self.key < other.key\n",
    "\n",
    "    def __str__(self):\n",
    "        return self.key + \" \" + str(self.value)\n",
    "    \n",
    "    def __repr__(self):\n",
    "        return self.__str__()"
   ]
  },
  {
   "cell_type": "markdown",
   "id": "42f0f4cc",
   "metadata": {},
   "source": [
    "Class Node"
   ]
  },
  {
   "cell_type": "code",
   "execution_count": 4,
   "id": "b94bc13e",
   "metadata": {},
   "outputs": [],
   "source": [
    "class Node:\n",
    "    \n",
    "    def __init__(self, key, data):\n",
    "        self.left = None\n",
    "        self.right = None\n",
    "        self.key = key\n",
    "        self.data = data\n",
    "        self.factor = \"\"\n",
    "\n",
    "    def insert(self, key, data):\n",
    "        if key < self.key:\n",
    "            if self.left is None:\n",
    "                self.left = Node(key, data)\n",
    "            else:\n",
    "                self.left.insert(key, data)\n",
    "        elif key > self.key:\n",
    "            if self.right is None:\n",
    "                self.right = Node(key, data)\n",
    "            else:\n",
    "                self.right.insert(key, data)\n",
    "        else:\n",
    "            self.data = data\n",
    "            \n",
    "    def insert_balanced(self, key, data):\n",
    "        self.insert(key, data)\n",
    "        \n",
    "        set_balance_factor(self)\n",
    "            \n",
    "        if self.factor < -1:\n",
    "            tree_after_insert = self.right_rotate()\n",
    "            return tree_after_insert\n",
    "        \n",
    "        if self.factor > 1:\n",
    "            tree_after_insert = self.left_rotate()\n",
    "            return tree_after_insert\n",
    "\n",
    "    def get(self, key):\n",
    "        if key < self.key:\n",
    "            if self.left is None:\n",
    "                return 'key (' + str(key) + ') not found'\n",
    "            else:\n",
    "                return self.left.get(key)\n",
    "        elif key > self.key:\n",
    "            if self.right is None:\n",
    "                return 'key (' + str(key) + ') not found'\n",
    "            else:\n",
    "                return self.right.get(key)\n",
    "        else:\n",
    "            return self.data    \n",
    "    \n",
    "    def display(self):\n",
    "        lines, *_ = self._display_aux()\n",
    "        for line in lines:\n",
    "            print(line)\n",
    "\n",
    "    def _display_aux(self):\n",
    "        \"\"\"Returns list of strings, width, height, and horizontal coordinate of the root.\"\"\"\n",
    "        # No child.\n",
    "        if self.right is None and self.left is None:\n",
    "            line = '%s %s' % (self.key, str(self.factor))\n",
    "            width = len(line)\n",
    "            height = 1\n",
    "            middle = width // 2\n",
    "            return [line], width, height, middle\n",
    "\n",
    "        # Only left child.\n",
    "        if self.right is None:\n",
    "            lines, n, p, x = self.left._display_aux()\n",
    "            s = '%s %s' % (self.key, str(self.factor))\n",
    "            u = len(s)\n",
    "            first_line = (x + 1) * ' ' + (n - x - 1) * '_' + s\n",
    "            second_line = x * ' ' + '/' + (n - x - 1 + u) * ' '\n",
    "            shifted_lines = [line + u * ' ' for line in lines]\n",
    "            return [first_line, second_line] + shifted_lines, n + u, p + 2, n + u // 2\n",
    "\n",
    "        # Only right child.\n",
    "        if self.left is None:\n",
    "            lines, n, p, x = self.right._display_aux()\n",
    "            s = '%s %s' % (self.key, str(self.factor))\n",
    "            u = len(s)\n",
    "            first_line = s + x * '_' + (n - x) * ' '\n",
    "            second_line = (u + x) * ' ' + '\\\\' + (n - x - 1) * ' '\n",
    "            shifted_lines = [u * ' ' + line for line in lines]\n",
    "            return [first_line, second_line] + shifted_lines, n + u, p + 2, u // 2\n",
    "\n",
    "        # Two children.\n",
    "        left, n, p, x = self.left._display_aux()\n",
    "        right, m, q, y = self.right._display_aux()\n",
    "        s = '%s %s' % (self.key, str(self.factor))\n",
    "        u = len(s)\n",
    "        first_line = (x + 1) * ' ' + (n - x - 1) * '_' + s + y * '_' + (m - y) * ' '\n",
    "        second_line = x * ' ' + '/' + (n - x - 1 + u + y) * ' ' + '\\\\' + (m - y - 1) * ' '\n",
    "        if p < q:\n",
    "            left += [n * ' '] * (q - p)\n",
    "        elif q < p:\n",
    "            right += [m * ' '] * (p - q)\n",
    "        zipped_lines = zip(left, right)\n",
    "        lines = [first_line, second_line] + [a + u * ' ' + b for a, b in zipped_lines]\n",
    "        return lines, n + m + u, max(p, q) + 2, n + u // 2\n",
    "    \n",
    "    def judge(self, x = None): #judge until balanced, \n",
    "\n",
    "        if self.factor <= -1:\n",
    "            #x = self\n",
    "            if self.factor < -1:\n",
    "                if self.left is not None: #remove one if\n",
    "                    if self.left.factor == -1:\n",
    "                        y = self\n",
    "                        #if x is y:\n",
    "                        #    x = None\n",
    "                        if x is None:\n",
    "                            return [None, y]\n",
    "                        else:\n",
    "                            return [x, y]\n",
    "                    #else:\n",
    "                    #    x = self\n",
    "                    #    self.right.judge(x = x)\n",
    "            #else:\n",
    "            x = self\n",
    "            return self.left.judge(x = x)    #if x = y, x = none\n",
    "        \n",
    "        if self.factor >= 1:\n",
    "            #x = None\n",
    "            if self.factor > 1:\n",
    "                if self.right is not None:\n",
    "                    if self.right.factor == 1:\n",
    "                        y = self\n",
    "                        #if x is y:\n",
    "                        #    y = None\n",
    "                        if x is None:\n",
    "                            return [None, y]\n",
    "                        else:\n",
    "                            return [x, y]\n",
    "                    #else:\n",
    "                    #    x = self\n",
    "                    #    self.right.judge(x = x)\n",
    "            #else:\n",
    "            x = self\n",
    "            return self.right.judge(x = x)\n",
    "       \n",
    "        print(\"Tree is either left_right/ right_left/ balanced or non-existent\")\n",
    "        \n",
    "            \n",
    "    def right_rotate(self): #left_left case\n",
    "        \n",
    "        pivot = self.judge()\n",
    "        \n",
    "        x = pivot[0]\n",
    "        y = pivot[1] \n",
    "        \n",
    "        z = None\n",
    "        \n",
    "        if y is not None:\n",
    "            z = y.left\n",
    "            \n",
    "        if y is not None:\n",
    "            if z is not None:\n",
    "                y.left = z.right\n",
    "            else:\n",
    "                y.left = None\n",
    "        if z is not None:\n",
    "            z.right = y\n",
    "        \n",
    "        if x is not None:\n",
    "            x.left = z\n",
    "            set_balance_factor(x)\n",
    "            return x\n",
    "        else:\n",
    "            set_balance_factor(z)\n",
    "            return z\n",
    "        \n",
    "    def left_rotate(self): #right_right case\n",
    "        \n",
    "        pivot = self.judge()\n",
    "        \n",
    "        x = pivot[0]\n",
    "        y = pivot[1]\n",
    "        \n",
    "        z = None\n",
    "        \n",
    "        if y is not None:\n",
    "            z = y.right\n",
    "            \n",
    "        if y is not None:\n",
    "            if z is not None:\n",
    "                y.right = z.left\n",
    "            else:\n",
    "                y.right = None\n",
    "        if z is not None:\n",
    "            z.left = y\n",
    "        \n",
    "        if x is not None:\n",
    "            x.right = z\n",
    "            set_balance_factor(x)\n",
    "            return x\n",
    "        else:\n",
    "            set_balance_factor(z)\n",
    "            return z"
   ]
  },
  {
   "cell_type": "markdown",
   "id": "312a24dd",
   "metadata": {},
   "source": [
    "Merge Sort (function)"
   ]
  },
  {
   "cell_type": "code",
   "execution_count": 5,
   "id": "90395959",
   "metadata": {},
   "outputs": [],
   "source": [
    "def MergeSort(mylist):\n",
    "    if len(mylist) > 1:\n",
    "        mid = len(mylist) // 2          \n",
    "        left = mylist[:mid]\n",
    "        right = mylist[mid:]\n",
    "        \n",
    "        # Recursive call on each half\n",
    "        MergeSort(left)\n",
    "        MergeSort(right)\n",
    "    \n",
    "        # Iterators\n",
    "        i = 0\n",
    "        j = 0\n",
    "        k = 0\n",
    "        \n",
    "        while i < len(left) and j < len(right):\n",
    "            if left[i] <= right[j]:\n",
    "                mylist[k] = left[i]\n",
    "                i += 1\n",
    "            else:\n",
    "                mylist[k] = right[j]\n",
    "                j += 1\n",
    "            k += 1\n",
    "        \n",
    "        # For the remaining values\n",
    "        while i < len(left):\n",
    "            mylist[k] = left[i]\n",
    "            i += 1\n",
    "            k += 1\n",
    "        while j < len(right):\n",
    "            mylist[k] = right[j]\n",
    "            j += 1\n",
    "            k += 1\n",
    "            \n",
    "    return mylist"
   ]
  },
  {
   "cell_type": "markdown",
   "id": "f353a0b5",
   "metadata": {},
   "source": [
    "Create balanced Binary Search Tree (function)"
   ]
  },
  {
   "cell_type": "code",
   "execution_count": 6,
   "id": "ef721e1b",
   "metadata": {},
   "outputs": [],
   "source": [
    "def create_balanced_binary_search_tree(list_):\n",
    "\n",
    "    # Exit condition \n",
    "    if len(list_) == 0:\n",
    "        return None\n",
    "\n",
    "    # Take middle element of sorted list     \n",
    "    mid = len(list_) // 2\n",
    "    root = Node(list_[mid].key, list_[mid].value)\n",
    "    \n",
    "    # Divide sorted list in < and > middle element \n",
    "    left = list_[:mid]\n",
    "    right = list_[mid + 1:]\n",
    "    \n",
    "    # Recursive call on each half       \n",
    "    root.left = create_balanced_binary_search_tree(left)\n",
    "    root.right = create_balanced_binary_search_tree(right)\n",
    "    \n",
    "    return root"
   ]
  },
  {
   "cell_type": "markdown",
   "id": "80485269",
   "metadata": {},
   "source": [
    "Get max height (function)"
   ]
  },
  {
   "cell_type": "code",
   "execution_count": 7,
   "id": "3cf630ba",
   "metadata": {},
   "outputs": [],
   "source": [
    "def get_max_height(left, right):\n",
    "    if left > right:\n",
    "        return left\n",
    "    else:\n",
    "        return right"
   ]
  },
  {
   "cell_type": "markdown",
   "id": "6acdcb46",
   "metadata": {},
   "source": [
    "Set balance factor (function)"
   ]
  },
  {
   "cell_type": "code",
   "execution_count": 8,
   "id": "d439c39e",
   "metadata": {},
   "outputs": [],
   "source": [
    "def set_balance_factor(tree):\n",
    "    if tree is None:\n",
    "        return 0\n",
    "    else:\n",
    "        ht = get_max_height(set_balance_factor(tree.left), set_balance_factor(tree.right)) + 1\n",
    "        tree.factor = set_balance_factor(tree.right) - set_balance_factor(tree.left)\n",
    "        return ht"
   ]
  },
  {
   "cell_type": "markdown",
   "id": "115389db",
   "metadata": {},
   "source": [
    "Left left case"
   ]
  },
  {
   "cell_type": "markdown",
   "id": "f81f9fab",
   "metadata": {},
   "source": [
    "Original tree before insertion of element"
   ]
  },
  {
   "cell_type": "code",
   "execution_count": 9,
   "id": "967a276f",
   "metadata": {},
   "outputs": [
    {
     "name": "stdout",
     "output_type": "stream",
     "text": [
      "            ______13 -1__      \n",
      "           /             \\     \n",
      "     ____10 -1__       15 1__  \n",
      "    /           \\            \\ \n",
      "  _5 0_       11 0         16 0\n",
      " /     \\                       \n",
      "4 0   8 0                      \n"
     ]
    }
   ],
   "source": [
    "left_left = Node(13, \"\")\n",
    "left_left.insert(10, \"\")\n",
    "left_left.insert(15, \"\")\n",
    "left_left.insert(5, \"\")\n",
    "left_left.insert(11, \"\")\n",
    "left_left.insert(16, \"\")\n",
    "left_left.insert(4, \"\")\n",
    "left_left.insert(8, \"\")\n",
    "set_balance_factor(left_left)\n",
    "\n",
    "left_left.display()"
   ]
  },
  {
   "cell_type": "markdown",
   "id": "a7f71a9c",
   "metadata": {},
   "source": [
    "Rotating to the right after manually inserting an element which unbalances the tree"
   ]
  },
  {
   "cell_type": "code",
   "execution_count": 10,
   "id": "be0a79cd",
   "metadata": {},
   "outputs": [
    {
     "name": "stdout",
     "output_type": "stream",
     "text": [
      "         ____________13 -1__      \n",
      "        /                   \\     \n",
      "      _5 0_____           15 1__  \n",
      "     /         \\                \\ \n",
      "  _4 -1     _10 0__           16 0\n",
      " /         /       \\              \n",
      "3 0       8 0    11 0             \n"
     ]
    }
   ],
   "source": [
    "left_left = Node(13, \"\")\n",
    "left_left.insert(10, \"\")\n",
    "left_left.insert(15, \"\")\n",
    "left_left.insert(5, \"\")\n",
    "left_left.insert(11, \"\")\n",
    "left_left.insert(16, \"\")\n",
    "left_left.insert(4, \"\")\n",
    "left_left.insert(8, \"\")\n",
    "left_left.insert(3, \"\")\n",
    "set_balance_factor(left_left)\n",
    "left_left = left_left.right_rotate()\n",
    "left_left.display()"
   ]
  },
  {
   "cell_type": "markdown",
   "id": "c19df0c2",
   "metadata": {},
   "source": [
    "Balanced insertion"
   ]
  },
  {
   "cell_type": "code",
   "execution_count": 15,
   "id": "61857a93",
   "metadata": {},
   "outputs": [
    {
     "name": "stdout",
     "output_type": "stream",
     "text": [
      "         ____________13 -1__      \n",
      "        /                   \\     \n",
      "      _5 0_____           15 1__  \n",
      "     /         \\                \\ \n",
      "  _4 -1     _10 0__           16 0\n",
      " /         /       \\              \n",
      "3 0       8 0    11 0             \n"
     ]
    }
   ],
   "source": [
    "left_left = Node(13, \"\")\n",
    "left_left.insert(10, \"\")\n",
    "left_left.insert(15, \"\")\n",
    "left_left.insert(5, \"\")\n",
    "left_left.insert(11, \"\")\n",
    "left_left.insert(16, \"\")\n",
    "left_left.insert(4, \"\")\n",
    "left_left.insert(8, \"\")\n",
    "left_left.insert_balanced(3, \"\")\n",
    "left_left.display()"
   ]
  },
  {
   "cell_type": "markdown",
   "id": "bf986488",
   "metadata": {},
   "source": [
    "Right right case"
   ]
  },
  {
   "cell_type": "raw",
   "id": "049eca95",
   "metadata": {},
   "source": [
    "Original tree before insertion of element"
   ]
  },
  {
   "cell_type": "code",
   "execution_count": 16,
   "id": "fe6c31ba",
   "metadata": {},
   "outputs": [
    {
     "name": "stdout",
     "output_type": "stream",
     "text": [
      "  _30 1______      \n",
      " /           \\     \n",
      "5 0       _35 0__  \n",
      "         /       \\ \n",
      "       32 0    40 0\n"
     ]
    }
   ],
   "source": [
    "right_right = Node(30,\"\")\n",
    "right_right.insert(5, \"\")\n",
    "right_right.insert(35, \"\")\n",
    "right_right.insert(32, \"\")\n",
    "right_right.insert(40, \"\")\n",
    "set_balance_factor(right_right)\n",
    "right_right.display()"
   ]
  },
  {
   "cell_type": "markdown",
   "id": "0e9c0aec",
   "metadata": {},
   "source": [
    "Rotating to the left after manually inserting an element which unbalances the tree"
   ]
  },
  {
   "cell_type": "code",
   "execution_count": 23,
   "id": "bf87d7d1",
   "metadata": {},
   "outputs": [
    {
     "name": "stdout",
     "output_type": "stream",
     "text": [
      "      _____35 0__      \n",
      "     /           \\     \n",
      "  _30 0__      40 1__  \n",
      " /       \\           \\ \n",
      "5 0    32 0        45 0\n"
     ]
    }
   ],
   "source": [
    "right_right = Node(30,\"\")\n",
    "right_right.insert(5, \"\")\n",
    "right_right.insert(35, \"\")\n",
    "right_right.insert(32, \"\")\n",
    "right_right.insert(40, \"\")\n",
    "right_right.insert(45, \"\")\n",
    "set_balance_factor(right_right)\n",
    "right_right = right_right.left_rotate()\n",
    "right_right.display()"
   ]
  },
  {
   "cell_type": "markdown",
   "id": "b3138ac8",
   "metadata": {},
   "source": [
    "Balanced insertion"
   ]
  },
  {
   "cell_type": "code",
   "execution_count": 18,
   "id": "fa2265e9",
   "metadata": {},
   "outputs": [
    {
     "name": "stdout",
     "output_type": "stream",
     "text": [
      "      _____35 0__      \n",
      "     /           \\     \n",
      "  _30 0__      40 1__  \n",
      " /       \\           \\ \n",
      "5 0    32 0        45 0\n"
     ]
    }
   ],
   "source": [
    "right_right = Node(30,\"\")\n",
    "right_right.insert(5, \"\")\n",
    "right_right.insert(35, \"\")\n",
    "right_right.insert(32, \"\")\n",
    "right_right.insert(40, \"\")\n",
    "right_right = right_right.insert_balanced(45, \"\")\n",
    "right_right.display()"
   ]
  },
  {
   "cell_type": "markdown",
   "id": "ecdd17b8",
   "metadata": {},
   "source": [
    "Note that the code only works for left_left and right_right case and already balanced trees cannot be rotated neither. "
   ]
  },
  {
   "cell_type": "code",
   "execution_count": null,
   "id": "7a5e8293",
   "metadata": {},
   "outputs": [],
   "source": []
  },
  {
   "cell_type": "code",
   "execution_count": null,
   "id": "d453cf33",
   "metadata": {},
   "outputs": [],
   "source": []
  },
  {
   "cell_type": "code",
   "execution_count": null,
   "id": "d7b2d3d0",
   "metadata": {},
   "outputs": [],
   "source": []
  },
  {
   "cell_type": "code",
   "execution_count": null,
   "id": "815d9780",
   "metadata": {},
   "outputs": [],
   "source": []
  },
  {
   "cell_type": "code",
   "execution_count": null,
   "id": "ee235646",
   "metadata": {},
   "outputs": [],
   "source": []
  },
  {
   "cell_type": "code",
   "execution_count": null,
   "id": "1fee5582",
   "metadata": {},
   "outputs": [],
   "source": []
  }
 ],
 "metadata": {
  "kernelspec": {
   "display_name": "Python 3 (ipykernel)",
   "language": "python",
   "name": "python3"
  },
  "language_info": {
   "codemirror_mode": {
    "name": "ipython",
    "version": 3
   },
   "file_extension": ".py",
   "mimetype": "text/x-python",
   "name": "python",
   "nbconvert_exporter": "python",
   "pygments_lexer": "ipython3",
   "version": "3.8.8"
  }
 },
 "nbformat": 4,
 "nbformat_minor": 5
}
